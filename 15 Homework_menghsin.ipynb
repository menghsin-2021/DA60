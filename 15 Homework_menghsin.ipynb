{
 "cells": [
  {
   "cell_type": "markdown",
   "metadata": {
    "id": "i9iZ2230aW84"
   },
   "source": [
    "作業目標:<br>\n",
    "1. 熟悉索引與欄位設定\n",
    "2. 使用樞紐建立新資料"
   ]
  },
  {
   "cell_type": "markdown",
   "metadata": {
    "id": "VhzIqUcIY99e"
   },
   "source": [
    "作業重點:<br>\n",
    "1. 多維度索引、欄位是有順序性的須注意\n",
    "2. 使用樞紐建立資料需要注意參數<br>\n",
    "  index : 新資料的索引名稱<br>\n",
    "  columns : 新資料的欄位名稱<br>\n",
    "  values :新資料的值名稱\n"
   ]
  },
  {
   "cell_type": "markdown",
   "metadata": {
    "id": "lqcrvsyOaaaR"
   },
   "source": [
    "題目: 運用下列分數資料重新建構資料，將索引(index)依序改為sex、class、student_id，欄位依序改成chinese_score、english_score、math_score<br><br>\n",
    "score_df = pd.DataFrame([[1,50,80,70,'boy',1],[2,60,45,50,'boy',2],[3,98,43,55,'boy',1],[4,70,69,89,'boy',2],[5,56,79,60,'girl',1],[6,60,68,55,'girl',2],[7,45,70,77,'girl',1],[8,55,77,76,'girl',2],[9,25,57,60,'girl',1],[10,88,40,43,'girl',3],[11,25,60,45,'boy',3],[12,80,60,23,'boy',3],[13,20,90,66,'girl',3],[14,50,50,50,'girl',3],[15,89,67,77,'girl',3]],columns=['student_id','math_score','english_score','chinese_score','sex','class'])\n"
   ]
  },
  {
   "cell_type": "code",
   "execution_count": 2,
   "metadata": {
    "id": "GJVSUJ4zaZTj"
   },
   "outputs": [
    {
     "name": "stdout",
     "output_type": "stream",
     "text": [
      "    student_id  math_score  english_score  chinese_score   sex  class\n",
      "0            1          50             80             70   boy      1\n",
      "1            2          60             45             50   boy      2\n",
      "2            3          98             43             55   boy      1\n",
      "3            4          70             69             89   boy      2\n",
      "4            5          56             79             60  girl      1\n",
      "5            6          60             68             55  girl      2\n",
      "6            7          45             70             77  girl      1\n",
      "7            8          55             77             76  girl      2\n",
      "8            9          25             57             60  girl      1\n",
      "9           10          88             40             43  girl      3\n",
      "10          11          25             60             45   boy      3\n",
      "11          12          80             60             23   boy      3\n",
      "12          13          20             90             66  girl      3\n",
      "13          14          50             50             50  girl      3\n",
      "14          15          89             67             77  girl      3\n"
     ]
    }
   ],
   "source": [
    "import pandas as pd\n",
    "import numpy as np\n",
    "score_df = pd.DataFrame([[1,50,80,70,'boy',1],[2,60,45,50,'boy',2],[3,98,43,55,'boy',1],[4,70,69,89,'boy',2],[5,56,79,60,'girl',1],[6,60,68,55,'girl',2],[7,45,70,77,'girl',1],[8,55,77,76,'girl',2],[9,25,57,60,'girl',1],[10,88,40,43,'girl',3],[11,25,60,45,'boy',3],[12,80,60,23,'boy',3],[13,20,90,66,'girl',3],[14,50,50,50,'girl',3],[15,89,67,77,'girl',3]],columns=['student_id','math_score','english_score','chinese_score','sex','class'])\n",
    "print(score_df)"
   ]
  },
  {
   "cell_type": "code",
   "execution_count": null,
   "metadata": {
    "id": "sXolLlu6a_8F"
   },
   "outputs": [],
   "source": [
    "#將索引(index)依序改為sex、class、student_id，欄位依序改成chinese_score、english_score、math_score\n",
    "# python 資料分析 p276"
   ]
  },
  {
   "cell_type": "code",
   "execution_count": 5,
   "metadata": {
    "id": "6005fVVybA_9"
   },
   "outputs": [
    {
     "name": "stdout",
     "output_type": "stream",
     "text": [
      "                       chinese_score  english_score  math_score\n",
      "sex  class student_id                                          \n",
      "boy  1     1                      70             80          50\n",
      "     2     2                      50             45          60\n",
      "     1     3                      55             43          98\n",
      "     2     4                      89             69          70\n",
      "girl 1     5                      60             79          56\n",
      "     2     6                      55             68          60\n",
      "     1     7                      77             70          45\n",
      "     2     8                      76             77          55\n",
      "     1     9                      60             57          25\n",
      "     3     10                     43             40          88\n",
      "boy  3     11                     45             60          25\n",
      "           12                     23             60          80\n",
      "girl 3     13                     66             90          20\n",
      "           14                     50             50          50\n",
      "           15                     77             67          89\n"
     ]
    }
   ],
   "source": [
    "columns=['student_id','math_score','english_score','chinese_score','sex','class']\n",
    "score_df_pivoted = score_df.pivot(['sex', 'class', 'student_id'],columns[-2:-5], ['chinese_score', 'english_score', 'math_score'])\n",
    "print(score_df_pivoted)"
   ]
  },
  {
   "cell_type": "code",
   "execution_count": null,
   "metadata": {},
   "outputs": [],
   "source": []
  }
 ],
 "metadata": {
  "colab": {
   "collapsed_sections": [],
   "name": "作業題目.ipynb",
   "provenance": []
  },
  "kernelspec": {
   "display_name": "Python 3",
   "language": "python",
   "name": "python3"
  },
  "language_info": {
   "codemirror_mode": {
    "name": "ipython",
    "version": 3
   },
   "file_extension": ".py",
   "mimetype": "text/x-python",
   "name": "python",
   "nbconvert_exporter": "python",
   "pygments_lexer": "ipython3",
   "version": "3.9.1"
  }
 },
 "nbformat": 4,
 "nbformat_minor": 1
}
