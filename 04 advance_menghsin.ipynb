{
 "cells": [
  {
   "cell_type": "markdown",
   "metadata": {
    "id": "rY2oyzUo2wKZ"
   },
   "source": [
    "作業目標:<br>\n",
    "嘗試練習log的函式並應用<br>\n",
    "作業重點:<br>\n",
    "學員需要複習log的轉換方式<br>\n",
    "熟悉運用指數函數以及對數函數"
   ]
  },
  {
   "cell_type": "markdown",
   "metadata": {
    "id": "Esjhs7zz2y95"
   },
   "source": [
    "題目:<br>\n",
    "運用投影片中的分貝公式回答下列問題。<br>\n",
    "1.正常的談話的聲壓為20000微巴斯卡，請問多少分貝?<br>\n",
    "2.30分貝的聲壓會是50分貝的幾倍?\n"
   ]
  },
  {
   "cell_type": "markdown",
   "metadata": {},
   "source": [
    "1. 人類的耳朵能感應聲壓的範圍很大。正常的人耳能夠聽到最微弱的聲音叫作「聽覺閾」，為20個微巴斯卡 (縮寫為μPa) 的壓力變化，即\"百萬分之二十巴斯卡\")。\n",
    "\n",
    "2. 非常噪吵的情況能產生很大的壓力變化，例如一架太空穿梭機在發出最大馬力時能在近距離產生大約 2,000 Pa的噪音。如用巴斯卡(Pa)來表達聲音或噪音，我們須處理小至20，大至2,000,000,000的數字。\n",
    "\n",
    "3.如用巴斯卡(Pa)來表達聲音或噪音會頗為不便。較簡單的做法是用一個對數標度(logarithmic scale)來表達聲音或噪音的響亮度，以10作為基數。\n",
    "\n",
    "4. 為避免以巴斯卡(Pa)來表達聲音或噪音（以防處理難以操縱的數字），故使用分貝(dB)這個標度。該標度以「聽覺閾」20 μPa 作為參考聲壓值，並定義這聲壓水平為0分貝(dB)。\n",
    "\n",
    "5. 用對數標度表達聲音強度的優點:：人類聽覺反應是基於對聲音的相對變化，而非絕對變化。對數標度正可模擬人類爾多對聲音的反應。\n",
    "\n",
    "公式：聲壓 [ dB ] = 20 log ( 量到的聲壓值 /  參考聲壓值 )"
   ]
  },
  {
   "cell_type": "code",
   "execution_count": 1,
   "metadata": {
    "id": "SKVoN9E82yQi"
   },
   "outputs": [],
   "source": [
    "import numpy as np "
   ]
  },
  {
   "cell_type": "code",
   "execution_count": 3,
   "metadata": {
    "id": "knBzIEbisYO_"
   },
   "outputs": [
    {
     "name": "stdout",
     "output_type": "stream",
     "text": [
      "0.0\n",
      "60.0\n"
     ]
    }
   ],
   "source": [
    "#1.正常的談話的聲壓為20000微巴斯卡，請問多少分貝?\n",
    "#請寫下程式\n",
    "V1 = 20000\n",
    "V0 = 20\n",
    "def db(v):\n",
    "    return 20 * np.log10(v / 20)\n",
    "print(db(V0))\n",
    "print(db(V1))"
   ]
  },
  {
   "cell_type": "code",
   "execution_count": null,
   "metadata": {
    "id": "5Vknqg8esbl_"
   },
   "outputs": [],
   "source": [
    "#2.30分貝的聲壓會是50分貝的幾倍?\n",
    "#公式移項過後可以得到 V1 = ?\n",
    "#請寫下程式\n"
   ]
  },
  {
   "cell_type": "code",
   "execution_count": 12,
   "metadata": {
    "id": "LjGnv4Q-1t7u"
   },
   "outputs": [
    {
     "name": "stdout",
     "output_type": "stream",
     "text": [
      "0.09999999999999999\n",
      "20000.0\n",
      "20.0\n"
     ]
    }
   ],
   "source": [
    "def upa(db):\n",
    "    return 20 * np.power(10, (db / 20))\n",
    "\n",
    "db1 = 30\n",
    "db2 = 50\n",
    "\n",
    "print(upa(db1) / upa(db2))\n",
    "V1 = upa(60)\n",
    "V0 = upa(0)\n",
    "print(V1)\n",
    "print(V0)\n",
    "    "
   ]
  },
  {
   "cell_type": "code",
   "execution_count": null,
   "metadata": {},
   "outputs": [],
   "source": []
  }
 ],
 "metadata": {
  "colab": {
   "collapsed_sections": [],
   "name": "作業_Hong題目.ipynb",
   "provenance": []
  },
  "kernelspec": {
   "display_name": "Python 3",
   "language": "python",
   "name": "python3"
  },
  "language_info": {
   "codemirror_mode": {
    "name": "ipython",
    "version": 3
   },
   "file_extension": ".py",
   "mimetype": "text/x-python",
   "name": "python",
   "nbconvert_exporter": "python",
   "pygments_lexer": "ipython3",
   "version": "3.9.1"
  }
 },
 "nbformat": 4,
 "nbformat_minor": 1
}
