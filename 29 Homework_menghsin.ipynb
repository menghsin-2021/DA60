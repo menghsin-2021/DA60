{
 "cells": [
  {
   "cell_type": "markdown",
   "metadata": {},
   "source": [
    "## 作業:\n",
    "今天學到五種分配，包含，   \n",
    "離散均勻分配( Discrete Uniform Distribution )   \n",
    "伯努利分配( Bernoulli Distribution )   \n",
    "二項分配(Binomial Distribution)  \n",
    "負二項分配(Negative Binomial Distribution)  \n",
    "超幾何分配(Hypergeometric Distribution)   \n",
    "今天我們透過作業中的問題，回想今天的內容吧!  "
   ]
  },
  {
   "cell_type": "markdown",
   "metadata": {},
   "source": [
    "### Q1: 大樂透的頭獎，你必須從49個挑選出 6 個號碼，\n",
    "### 且這六個號碼與頭獎的六個號碼一致，頭獎的機率是屬於哪一種分配?"
   ]
  },
  {
   "cell_type": "code",
   "execution_count": null,
   "metadata": {
    "collapsed": true
   },
   "outputs": [],
   "source": [
    "超幾何分配"
   ]
  },
  {
   "cell_type": "markdown",
   "metadata": {},
   "source": [
    "### Q2: 運用範例的 python 程式碼，計算大樂透的中頭獎機率?"
   ]
  },
  {
   "cell_type": "code",
   "execution_count": 1,
   "metadata": {},
   "outputs": [],
   "source": [
    "# library\n",
    "import matplotlib.pyplot as plt\n",
    "import numpy as np\n",
    "import pandas as pd\n",
    "from scipy import stats\n",
    "import math\n",
    "import statistics"
   ]
  },
  {
   "cell_type": "code",
   "execution_count": 6,
   "metadata": {},
   "outputs": [
    {
     "name": "stdout",
     "output_type": "stream",
     "text": [
      "[0 1 2 3 4 5 6]\n",
      "[4.35964976e-01 4.13019450e-01 1.32378029e-01 1.76504039e-02\n",
      " 9.68619724e-04 1.84498995e-05 7.15112384e-08]\n",
      "六碼全中機率: 7.151123842018523e-08\n",
      "<class 'numpy.ndarray'>\n"
     ]
    },
    {
     "data": {
      "image/png": "[encoded data removed]",
      "text/plain": [
       "<Figure size 432x288 with 1 Axes>"
      ]
     },
     "metadata": {
      "needs_background": "light"
     },
     "output_type": "display_data"
    }
   ],
   "source": [
    "'''\n",
    "超幾何分配(Hypergeometric Distribution)描述了\n",
    "由有限個物件中抽出n個物件，成功抽出指定種類的物件的個數（不歸還 （without replacement）)\n",
    "若隨機變量X 服從參數，則記為  H(n,K,N)，\n",
    "𝑁 : 共有幾個物件, 𝑁 =49\n",
    "𝐾 : 𝑁 個物件中，有 𝐾 個是你關心的物件類型個數, 𝐾 =0,1,2,…, 𝑁  K=6\n",
    "𝑛 : K個物件，要抽出 𝑛 個物件, 𝑛 =0,1,…, n=6\n",
    "\n",
    "現在有兩堆數字，43個為沒中獎數字，6個為中獎數字，取出6個，X=有幾個是中獎的。\n",
    "'''\n",
    "# 1.定義超幾何分配的基本資訊\n",
    "N=49\n",
    "K=6\n",
    "n=6\n",
    "\n",
    "#產生一個同樣間隔的序列\n",
    "r = np.arange(0, min(n+1,K+1)) #產出 x 對應點\n",
    "print(r)\n",
    "\n",
    "# # 2.計算機率質量函數 (probability mass function)\n",
    "# # P(X=x) --> 是機率\n",
    "probs = stats.hypergeom.pmf(r, N,K,n)\n",
    "print(probs)\n",
    "print('六碼全中機率:', probs[6])\n",
    "print(type(probs))\n",
    "\n",
    "plt.bar(r, probs)\n",
    "plt.ylabel('P(X=x)')\n",
    "plt.xlabel('x')\n",
    "plt.title('pmf of Hypergeometric(N=49,K=6,n=6)')\n",
    "plt.show()"
   ]
  },
  {
   "cell_type": "code",
   "execution_count": 5,
   "metadata": {},
   "outputs": [
    {
     "data": {
      "image/png": "[encoded data removed]",
      "text/plain": [
       "<Figure size 432x288 with 1 Axes>"
      ]
     },
     "metadata": {
      "needs_background": "light"
     },
     "output_type": "display_data"
    }
   ],
   "source": [
    "# 3.計算超幾何分配的累積機率 (cumulative density function)，pmf 的累加\n",
    "# P(X=x) --> 是機率\n",
    "cumsum_probs = stats.hypergeom.cdf(r, N,K,n)\n",
    "plt.show()\n",
    "plt.ylabel('P(X<=x)')\n",
    "plt.xlabel('x')\n",
    "plt.title('cdf of Hypergeometric(N=49,K=6,n=6)')\n",
    "plt.plot(r, cumsum_probs)\n",
    "plt.show()"
   ]
  },
  {
   "cell_type": "code",
   "execution_count": 11,
   "metadata": {},
   "outputs": [
    {
     "name": "stdout",
     "output_type": "stream",
     "text": [
      "0.0\n"
     ]
    }
   ],
   "source": [
    "# 4.透過 cdf ，給定一個 機率值，反推出對應到的 x\n",
    "p_loc= stats.hypergeom.ppf(7.151123842018523e-08, N,K,n)\n",
    "print(p_loc)\n",
    "#看上圖看結果"
   ]
  },
  {
   "cell_type": "code",
   "execution_count": 12,
   "metadata": {},
   "outputs": [
    {
     "name": "stdout",
     "output_type": "stream",
     "text": [
      "[1 0 0 ... 0 2 2]\n"
     ]
    },
    {
     "data": {
      "image/png": "[encoded data removed]",
      "text/plain": [
       "<Figure size 432x288 with 1 Axes>"
      ]
     },
     "metadata": {
      "needs_background": "light"
     },
     "output_type": "display_data"
    }
   ],
   "source": [
    "# 5.產生符合超幾何分配的隨機樣本點 (random sample)\n",
    "X = stats.hypergeom.rvs(N,K,n,size=10000)\n",
    "print(X)\n",
    "plt.hist(X,bins=50)\n",
    "plt.show()\n",
    "#試試看，，每一次的結果一樣嗎?"
   ]
  },
  {
   "cell_type": "code",
   "execution_count": 13,
   "metadata": {},
   "outputs": [
    {
     "name": "stdout",
     "output_type": "stream",
     "text": [
      "(array(0.73469388), array(0.57757185), array(0.78217963), array(0.14594099))\n",
      "<class 'tuple'>\n",
      "negative hypergeom mean= 0.7346938775510203\n",
      "negative hypergeom variance= 0.5775718450645564\n",
      "negative hypergeom kurtosis= 0.7821796323806014\n",
      "negative hypergeom skew= 0.1459409933480724\n"
     ]
    }
   ],
   "source": [
    "#6.計算固定參數下，隨機變數的平均數、變異數、偏度和峰度。\n",
    "\n",
    "stat_hyperg=stats.hypergeom.stats(N,K,n,moments='mvks')\n",
    "print(stat_hyperg)\n",
    "print(type(stat_hyperg))\n",
    "#E(X)\n",
    "print(\"negative hypergeom mean=\",float(stat_hyperg[0]))\n",
    "print(\"negative hypergeom variance=\",float(stat_hyperg[1]))\n",
    "print(\"negative hypergeom kurtosis=\",float(stat_hyperg[2]))\n",
    "print(\"negative hypergeom skew=\",float(stat_hyperg[3]))\n",
    "\n"
   ]
  },
  {
   "cell_type": "markdown",
   "metadata": {},
   "source": [
    "### Q3: 你覺得電腦簽注的中獎機率，和人腦簽注相比，哪一個機率高?"
   ]
  },
  {
   "cell_type": "code",
   "execution_count": null,
   "metadata": {
    "collapsed": true
   },
   "outputs": [],
   "source": [
    "一樣高"
   ]
  }
 ],
 "metadata": {
  "colab": {
   "name": "Day33.YOLO 細節理解 - 網路輸出的後處理_HW.ipynb",
   "provenance": []
  },
  "kernelspec": {
   "display_name": "Python 3",
   "language": "python",
   "name": "python3"
  },
  "language_info": {
   "codemirror_mode": {
    "name": "ipython",
    "version": 3
   },
   "file_extension": ".py",
   "mimetype": "text/x-python",
   "name": "python",
   "nbconvert_exporter": "python",
   "pygments_lexer": "ipython3",
   "version": "3.9.1"
  }
 },
 "nbformat": 4,
 "nbformat_minor": 1
}
