{
 "cells": [
  {
   "cell_type": "markdown",
   "metadata": {
    "id": "oef8c2jr-PZY"
   },
   "source": [
    "作業目標<br>\n",
    "計算有缺失值的資料，統計量實作<br>\n",
    "作業重點<br>\n",
    "當遇到缺失值有函式可以處理，不須額外寫程式刪除<br>\n",
    "計算統計量時不能出現缺失值"
   ]
  },
  {
   "cell_type": "markdown",
   "metadata": {
    "id": "4YgL8NF4-Ru3"
   },
   "source": [
    "題目:<br>\n",
    "english_score = np.array([55,89,76,65,48,70])<br>\n",
    "math_score = np.array([60,85,60,68,np.nan,60])<br>\n",
    "chinese_score = np.array([65,90,82,72,66,77])<br>\n",
    "上3列共六位同學的英文、數學、國文成績，第一個元素代表第一位同學，舉例第一位同學英文55分、數學60分、國文65分，今天第五位同學因某原因沒來考試，導致數學成績缺值，運用上列數據回答下列問題。<br>\n",
    "1. 請計算各科成績平均、最大值、最小值、標準差，其中數學缺一筆資料可忽略?\n",
    "2. 第五位同學補考數學後成績為55，請計算補考後數學成績平均、最大值、最小值、標準差?\n",
    "3. 用補考後資料找出與國文成績相關係數最高的學科?"
   ]
  },
  {
   "cell_type": "code",
   "execution_count": 2,
   "metadata": {
    "executionInfo": {
     "elapsed": 617,
     "status": "ok",
     "timestamp": 1609854566856,
     "user": {
      "displayName": "献竤黃",
      "photoUrl": "",
      "userId": "07529243043474362942"
     },
     "user_tz": -480
    },
    "id": "QwsKU8qO-RK7"
   },
   "outputs": [],
   "source": [
    "import numpy as np"
   ]
  },
  {
   "cell_type": "code",
   "execution_count": 3,
   "metadata": {
    "executionInfo": {
     "elapsed": 1016,
     "status": "ok",
     "timestamp": 1609854567261,
     "user": {
      "displayName": "献竤黃",
      "photoUrl": "",
      "userId": "07529243043474362942"
     },
     "user_tz": -480
    },
    "id": "B5BqDQAe_czh"
   },
   "outputs": [],
   "source": [
    "english_score = np.array([55,89,76,65,48,70])\n",
    "math_score = np.array([60,85,60,68,np.nan,60])\n",
    "chinese_score = np.array([65,90,82,72,66,77])"
   ]
  },
  {
   "cell_type": "code",
   "execution_count": 12,
   "metadata": {
    "executionInfo": {
     "elapsed": 1005,
     "status": "ok",
     "timestamp": 1609854567262,
     "user": {
      "displayName": "献竤黃",
      "photoUrl": "",
      "userId": "07529243043474362942"
     },
     "user_tz": -480
    },
    "id": "K3tUA6u9aI3N"
   },
   "outputs": [
    {
     "name": "stdout",
     "output_type": "stream",
     "text": [
      "[55 89 76 65 48 70]\n",
      "67.16666666666667 66.6 75.33333333333333\n",
      "89 85.0 90\n",
      "48 60.0 65\n",
      "14.716204220744787\n",
      "nan\n",
      "9.66781602362533\n"
     ]
    }
   ],
   "source": [
    "#1. 請計算各科成績平均、最大值、最小值、標準差，其中數學缺一筆資料可忽略?\n",
    "from typing import List, Tuple, Callable\n",
    "import math\n",
    "\n",
    "Vector = List[float]\n",
    "\n",
    "print(english_score[np.isfinite(english_score)])\n",
    "\n",
    "def mean(m):\n",
    "    return sum(m[np.isfinite(m)]) / len(m[np.isfinite(m)])\n",
    "\n",
    "print(mean(english_score), mean(math_score), mean(chinese_score))\n",
    "\n",
    "print(max(english_score), max(math_score), max(chinese_score))\n",
    "\n",
    "print(min(english_score), min(math_score), min(chinese_score))\n",
    "\n",
    "\n",
    "def dot(v: Vector, w: Vector) -> float:\n",
    "    '''計算 v_0 * w_0 + v_1 * w_1 + ... + v_n * w_n'''\n",
    "    assert len(v) == len(w), '兩個向量必須具有相同的維度'\n",
    "\n",
    "    return sum(v_i * w_i for v_i, w_i in zip(v, w))\n",
    "\n",
    "\n",
    "# 算出向量元素平方和\n",
    "def sum_of_squares(v: Vector) -> float:\n",
    "    '''送回v_1 *v_1 + ... + v_n * v_n'''\n",
    "    return dot(v, v)\n",
    "\n",
    "\n",
    "def de_mean(xs: List[float]) -> List[float]:\n",
    "    ''' 把 xs 轉換成原值與平均值的差值(這樣平均值就會變成 0 )'''\n",
    "    x_bar = mean(xs)\n",
    "    return [x - x_bar for x in xs]\n",
    "\n",
    "def variance(xs: List[float]) -> float:\n",
    "    '''有點像在計算平方差(squared deviation)的平均值'''\n",
    "    assert len(xs) >= 2, '至少有兩個元素，才能計算變異數'\n",
    "\n",
    "    n = len(xs)\n",
    "    deviation = de_mean(xs)\n",
    "    return sum_of_squares(deviation) / (n-1)\n",
    "\n",
    "# 標準差 (import math)\n",
    "\n",
    "def standard_deviation(xs: List[float]) -> float:\n",
    "    '''標準差就是變異數的平方根'''\n",
    "    return math.sqrt(variance(xs))\n",
    "\n",
    "print(standard_deviation(english_score)) \n",
    "print(standard_deviation(math_score)) \n",
    "print(standard_deviation(chinese_score)) \n"
   ]
  },
  {
   "cell_type": "code",
   "execution_count": 13,
   "metadata": {
    "executionInfo": {
     "elapsed": 996,
     "status": "ok",
     "timestamp": 1609854567262,
     "user": {
      "displayName": "献竤黃",
      "photoUrl": "",
      "userId": "07529243043474362942"
     },
     "user_tz": -480
    },
    "id": "mXjDzvSrbLlf"
   },
   "outputs": [
    {
     "name": "stdout",
     "output_type": "stream",
     "text": [
      "67.16666666666667 64.66666666666667 75.33333333333333\n",
      "89 85 90\n",
      "48 55 65\n",
      "14.716204220744787 10.801234497346433 9.66781602362533\n"
     ]
    }
   ],
   "source": [
    "#2. 第五位同學補考數學後成績為55，請計算補考後數學成績平均、最大值、最小值、標準差?\n",
    "english_score = np.array([55,89,76,65,48,70])\n",
    "math_score = np.array([60,85,60,68,55,60])\n",
    "chinese_score = np.array([65,90,82,72,66,77])\n",
    "\n",
    "print(mean(english_score), mean(math_score), mean(chinese_score))\n",
    "\n",
    "print(max(english_score), max(math_score), max(chinese_score))\n",
    "\n",
    "print(min(english_score), min(math_score), min(chinese_score))\n",
    "\n",
    "print(standard_deviation(english_score), standard_deviation(math_score), standard_deviation(chinese_score)) \n",
    "\n"
   ]
  },
  {
   "cell_type": "code",
   "execution_count": 5,
   "metadata": {
    "executionInfo": {
     "elapsed": 989,
     "status": "ok",
     "timestamp": 1609854567264,
     "user": {
      "displayName": "献竤黃",
      "photoUrl": "",
      "userId": "07529243043474362942"
     },
     "user_tz": -480
    },
    "id": "SaGolKx0cKoU"
   },
   "outputs": [],
   "source": [
    "#3. 用補考後資料找出與國文成績相關係數最高的學科?\n",
    "http://math1.ck.tp.edu.tw/%E6%9E%97%E4%BF%A1%E5%AE%89/%E5%AD%B8%E8%A1%93%E7%A0%94%E7%A9%B6/%E4%B8%8A%E8%AA%B2%E8%AC%9B%E7%BE%A9/%E7%AC%AC%E4%BA%94%E5%86%8A/1-3%E8%AE%8A%E7%95%B0%E4%BF%82%E6%95%B8%E8%88%87%E7%9B%B8%E9%97%9C%E4%BF%82%E6%95%B8.pdf\n",
    "https://chih-sheng-huang821.medium.com/%E7%9B%B8%E9%97%9C%E4%BF%82%E6%95%B8%E8%88%87%E5%85%B1%E8%AE%8A%E7%95%B0%E6%95%B8-correlation-coefficient-and-covariance-c9324c5cf679"
   ]
  },
  {
   "cell_type": "code",
   "execution_count": 16,
   "metadata": {
    "executionInfo": {
     "elapsed": 987,
     "status": "ok",
     "timestamp": 1609854567264,
     "user": {
      "displayName": "献竤黃",
      "photoUrl": "",
      "userId": "07529243043474362942"
     },
     "user_tz": -480
    },
    "id": "fTNlLZ9Pzyiy"
   },
   "outputs": [
    {
     "name": "stdout",
     "output_type": "stream",
     "text": [
      "0.9779282830211269\n",
      "0.7405680270233629\n"
     ]
    }
   ],
   "source": [
    "def co_variance(xs: List[float], ys: List[float]) -> float:\n",
    "    assert len(xs) == len(ys), '要相同數量'\n",
    "    n = len(xs)\n",
    "    deviation_x = de_mean(xs)\n",
    "    deviation_y = de_mean(ys)\n",
    "    return dot(deviation_x, deviation_y) / (n-1)\n",
    "\n",
    "def pearson_correlation_coefficient(xs: List[float], ys: [float]) -> float:\n",
    "    return (co_variance(xs, ys) / standard_deviation(xs) / standard_deviation(ys))\n",
    "\n",
    "print(pearson_correlation_coefficient(chinese_score, english_score))\n",
    "print(pearson_correlation_coefficient(chinese_score, math_score))\n"
   ]
  },
  {
   "cell_type": "code",
   "execution_count": null,
   "metadata": {},
   "outputs": [],
   "source": [
    "英文"
   ]
  }
 ],
 "metadata": {
  "colab": {
   "authorship_tag": "ABX9TyPtywwDR7TsGGEOMGYLDT5h",
   "collapsed_sections": [],
   "name": "作業Hong題目.ipynb",
   "provenance": []
  },
  "kernelspec": {
   "display_name": "Python 3",
   "language": "python",
   "name": "python3"
  },
  "language_info": {
   "codemirror_mode": {
    "name": "ipython",
    "version": 3
   },
   "file_extension": ".py",
   "mimetype": "text/x-python",
   "name": "python",
   "nbconvert_exporter": "python",
   "pygments_lexer": "ipython3",
   "version": "3.9.1"
  }
 },
 "nbformat": 4,
 "nbformat_minor": 1
}
