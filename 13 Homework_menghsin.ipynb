{
 "cells": [
  {
   "cell_type": "markdown",
   "metadata": {
    "colab_type": "text",
    "id": "P6xk2_jLsvFF"
   },
   "source": [
    "# [作業目標]\n",
    "\n",
    "\n",
    "1. 請接下列資料依照指定規則做合併：\n",
    "\n",
    "```\n",
    "- 依照 fruit 欄位做合併\n",
    "- 依照 index 索引做合併\n",
    "```\n",
    "\n",
    "2. [簡答題] 承上題，請問為什麼依照 merge 合併後有些資料不見了？\n",
    "\n",
    "3. [簡答題] 承上題，請問為什麼依照 index 合併會發生錯誤？請用程式解決。"
   ]
  },
  {
   "cell_type": "markdown",
   "metadata": {
    "colab_type": "text",
    "id": "uXGll28asvFS"
   },
   "source": [
    "# 作業 "
   ]
  },
  {
   "cell_type": "code",
   "execution_count": 1,
   "metadata": {},
   "outputs": [
    {
     "data": {
      "text/plain": [
       "'\\nYour Code\\n'"
      ]
     },
     "execution_count": 1,
     "metadata": {},
     "output_type": "execute_result"
    }
   ],
   "source": [
    "# 記得先 Import 正確的套件\n",
    "import pandas as pd\n",
    "import numpy as np\n",
    "\n",
    "'''\n",
    "Your Code\n",
    "'''"
   ]
  },
  {
   "cell_type": "markdown",
   "metadata": {},
   "source": [
    "### 1. 請接下列資料依照指定規則做合併：\n",
    "\n",
    "```\n",
    "- 依照 fruit 欄位做合併\n",
    "- 依照 index 索引做合併\n",
    "```\n"
   ]
  },
  {
   "cell_type": "code",
   "execution_count": 25,
   "metadata": {
    "colab": {},
    "colab_type": "code",
    "id": "5QrYoyNWsvFS"
   },
   "outputs": [
    {
     "name": "stdout",
     "output_type": "stream",
     "text": [
      "    fruit  weight  price  index\n",
      "0   apple    high     13      0\n",
      "1  banana  medium      8      1\n",
      "2  orange     low      9      2\n",
      "3   apple    high      4      3\n",
      "4  banana  medium     10      4\n",
      "5  orange     low      0      5\n",
      "6   apple    high      8      6\n",
      "7  banana  medium      4      7\n",
      "8  orange     low      6      8\n",
      "    fruit weight  price  index\n",
      "0   apple   high      4      0\n",
      "1  orange    low     14      1\n",
      "2    pine   high     10      2\n",
      "3   apple    low     10      3\n",
      "4  orange   high     13      4\n",
      "5    pine    low      7      5\n"
     ]
    }
   ],
   "source": [
    "df1 = pd.DataFrame({\n",
    "    'fruit': ['apple', 'banana', 'orange'] * 3,\n",
    "    'weight': ['high', 'medium', 'low'] * 3,\n",
    "    'price': np.random.randint(0, 15, 9),  # low high size\n",
    "    'index' : range(9)\n",
    "})\n",
    "\n",
    "df2 = pd.DataFrame({\n",
    "    'fruit': ['apple', 'orange', 'pine'] * 2,\n",
    "    'weight': ['high', 'low'] * 3,\n",
    "    'price': np.random.randint(0, 15, 6),\n",
    "    'index' : range(6)\n",
    "})\n",
    "print(df1)\n",
    "print(df2)"
   ]
  },
  {
   "cell_type": "code",
   "execution_count": 26,
   "metadata": {},
   "outputs": [
    {
     "name": "stdout",
     "output_type": "stream",
     "text": [
      "     fruit weight_x  price_x  index_x weight_y  price_y  index_y\n",
      "0    apple     high       13        0     high        4        0\n",
      "1    apple     high       13        0      low       10        3\n",
      "2    apple     high        4        3     high        4        0\n",
      "3    apple     high        4        3      low       10        3\n",
      "4    apple     high        8        6     high        4        0\n",
      "5    apple     high        8        6      low       10        3\n",
      "6   orange      low        9        2      low       14        1\n",
      "7   orange      low        9        2     high       13        4\n",
      "8   orange      low        0        5      low       14        1\n",
      "9   orange      low        0        5     high       13        4\n",
      "10  orange      low        6        8      low       14        1\n",
      "11  orange      low        6        8     high       13        4\n"
     ]
    }
   ],
   "source": [
    "# - 依照 fruit 欄位做合併\n",
    "df_merge = pd.merge(df1, df2, on='fruit')\n",
    "print(df_merge)\n",
    "\n"
   ]
  },
  {
   "cell_type": "code",
   "execution_count": 27,
   "metadata": {},
   "outputs": [
    {
     "name": "stdout",
     "output_type": "stream",
     "text": [
      "  fruit_x weight_x  price_x  index fruit_y weight_y  price_y\n",
      "0   apple     high       13      0   apple     high      4.0\n",
      "1  banana   medium        8      1  orange      low     14.0\n",
      "2  orange      low        9      2    pine     high     10.0\n",
      "3   apple     high        4      3   apple      low     10.0\n",
      "4  banana   medium       10      4  orange     high     13.0\n",
      "5  orange      low        0      5    pine      low      7.0\n",
      "6   apple     high        8      6     NaN      NaN      NaN\n",
      "7  banana   medium        4      7     NaN      NaN      NaN\n",
      "8  orange      low        6      8     NaN      NaN      NaN\n"
     ]
    }
   ],
   "source": [
    "# - 依照 index 索引做合併\n",
    "df_index = pd.merge(df1, df2, how='left', on='index')\n",
    "print(df_index)\n",
    "\n"
   ]
  },
  {
   "cell_type": "markdown",
   "metadata": {},
   "source": [
    "### 2. [簡答題] 承上題，請問為什麼依照 merge 合併後有些資料不見了？\n"
   ]
  },
  {
   "cell_type": "code",
   "execution_count": null,
   "metadata": {},
   "outputs": [],
   "source": [
    "# 兩 dataframe 沒有的水果資料被削去\n"
   ]
  },
  {
   "cell_type": "markdown",
   "metadata": {},
   "source": [
    "### 3. [簡答題] 承上題，請問為什麼依照 index 合併會發生錯誤？請用程式解決。"
   ]
  },
  {
   "cell_type": "code",
   "execution_count": 30,
   "metadata": {},
   "outputs": [
    {
     "name": "stdout",
     "output_type": "stream",
     "text": [
      "    fruit  weight  price  index   fruit weight  price  index\n",
      "0   apple    high     13      0   apple   high    4.0    0.0\n",
      "1  banana  medium      8      1  orange    low   14.0    1.0\n",
      "2  orange     low      9      2    pine   high   10.0    2.0\n",
      "3   apple    high      4      3   apple    low   10.0    3.0\n",
      "4  banana  medium     10      4  orange   high   13.0    4.0\n",
      "5  orange     low      0      5    pine    low    7.0    5.0\n",
      "6   apple    high      8      6     NaN    NaN    NaN    NaN\n",
      "7  banana  medium      4      7     NaN    NaN    NaN    NaN\n",
      "8  orange     low      6      8     NaN    NaN    NaN    NaN\n"
     ]
    }
   ],
   "source": [
    "# - 依照 index 索引做合併\n",
    "df_concat = pd.concat([df1, df2], axis=1)\n",
    "print(df_concat)\n"
   ]
  },
  {
   "cell_type": "code",
   "execution_count": 31,
   "metadata": {},
   "outputs": [
    {
     "name": "stdout",
     "output_type": "stream",
     "text": [
      "    fruit  weight  price  index\n",
      "0   apple    high     13      0\n",
      "1  banana  medium      8      1\n",
      "2  orange     low      9      2\n",
      "3   apple    high      4      3\n",
      "4  banana  medium     10      4\n",
      "5  orange     low      0      5\n",
      "6   apple    high      8      6\n",
      "7  banana  medium      4      7\n",
      "8  orange     low      6      8\n",
      "0   apple    high      4      0\n",
      "1  orange     low     14      1\n",
      "2    pine    high     10      2\n",
      "3   apple     low     10      3\n",
      "4  orange    high     13      4\n",
      "5    pine     low      7      5\n"
     ]
    }
   ],
   "source": [
    "df_concat = pd.concat([df1, df2], axis=0)\n",
    "print(df_concat)\n"
   ]
  },
  {
   "cell_type": "code",
   "execution_count": null,
   "metadata": {},
   "outputs": [],
   "source": []
  },
  {
   "cell_type": "code",
   "execution_count": null,
   "metadata": {},
   "outputs": [],
   "source": []
  }
 ],
 "metadata": {
  "colab": {
   "name": "Day_023_HW.ipynb",
   "provenance": []
  },
  "kernelspec": {
   "display_name": "Python 3",
   "language": "python",
   "name": "python3"
  },
  "language_info": {
   "codemirror_mode": {
    "name": "ipython",
    "version": 3
   },
   "file_extension": ".py",
   "mimetype": "text/x-python",
   "name": "python",
   "nbconvert_exporter": "python",
   "pygments_lexer": "ipython3",
   "version": "3.9.1"
  }
 },
 "nbformat": 4,
 "nbformat_minor": 1
}
