{
 "cells": [
  {
   "cell_type": "markdown",
   "metadata": {},
   "source": [
    "## 作業:\n",
    "今天學到 AB test中假設檢定的基本概念，最重要的就是如何將抽象情況數值化，\n",
    "並建立自已的 $H_0$ 與 $H_1$。\n",
    "透過作業來好好練習，概念懂了，後面幾堂課再帶大家運用 python 進行運算。\n"
   ]
  },
  {
   "cell_type": "markdown",
   "metadata": {},
   "source": [
    "### Q1: 吃減肥藥能在一個月內瘦超過十公斤，研究人員想推翻第四台廣告業者的說法，請試著寫出 $H_0$ 與 $H_1$ 。\n"
   ]
  },
  {
   "cell_type": "code",
   "execution_count": 2,
   "metadata": {},
   "outputs": [
    {
     "data": {
      "text/plain": [
       "'\\n研究人員想推翻第四台廣告業者的說法，所以\\nH1: 吃減肥藥能在一個月內瘦\"不能\"超過十公斤(X<10)\\nH0: 吃減肥藥能在一個月內瘦\"能\"超過十公斤(X>=10)\\n'"
      ]
     },
     "execution_count": 2,
     "metadata": {},
     "output_type": "execute_result"
    }
   ],
   "source": [
    "#Q1: 吃減肥藥能在一個月內瘦超過十公斤，研究人員想推翻第四台廣告業者的說法，請試著寫出 $H_0$ 與 $H_1$\n",
    "以 p 表示吃減肥藥能在一個月瘦超過10公斤的機率，X 表示 20 使用減肥藥的人數，則 X 從 B(20,p) 分布，透過經驗判斷，\n",
    "p 值要大於 0.8 才算有效，所以當 \n",
    "\n",
    "p > 0.8 吃減肥藥有效\n",
    "\n",
    "p ≦ 0.7 就代表吃減肥藥沒效\n",
    "\n",
    "透過隨機變數，把抽象化的現象數量化，從 A/B 情境轉成 H1 與 H0。\n",
    "\n",
    "p ≦ 0.8 就代表吃減肥藥沒效；\n",
    "\n",
    "p > 0.8 吃減肥藥有效；\n",
    "\n",
    "\n",
    "分別對應到假設檢定的 H0 與 H1\n",
    "\n",
    "H0 稱為虛無假設\n",
    "H1 稱為對立假設\n",
    "\n",
    "\n",
    "喝茶實驗的情境下，p ≦ 0.8 為 H0 ，p > 0.8 為 H1"
   ]
  },
  {
   "cell_type": "markdown",
   "metadata": {},
   "source": [
    "### Q2: 一位速食店店長認為其品牌在市場之佔有率至多為12%，於是該店長進行一個市場調查，一共訪問了3000為消費者，其中有311位表示喜歡該品牌，請試著寫出 $H_0$ 與 $H_1$ 。\n"
   ]
  },
  {
   "cell_type": "code",
   "execution_count": 3,
   "metadata": {},
   "outputs": [
    {
     "data": {
      "text/plain": [
       "'\\n一位速食店店長認為其品牌在市場之佔有率至多 12%，做實驗是想驗證這件事情，所以\\nH1: 其品牌在市場之佔有率至多 12%(p<12%)\\nH0: 其品牌在市場之佔有率超過 12%(p>=12%)\\n'"
      ]
     },
     "execution_count": 3,
     "metadata": {},
     "output_type": "execute_result"
    }
   ],
   "source": [
    "#Q2: 一位速食店店長認為其品牌在市場之佔有率至多為12%，於是該店長進行一個市場調查，一共訪問了3000為消費者，其中有311位表示喜歡該品牌，請試著寫出 $H_0$ 與 $H_1$ 。\n",
    "以 p 表示消費者喜歡品牌的機率，X 表示 3000 被訪問的消費者人數，則 X 從 B(3000,p) 分布，透過經驗判斷，\n",
    "p 值要大於 0.1 才算有效，所以當 \n",
    "\n",
    "p > 0.1 品牌被喜歡\n",
    "\n",
    "p ≦ 0.1 品牌不被喜歡\n",
    "\n",
    "透過隨機變數，把抽象化的現象數量化，從 A/B 情境轉成 H1 與 H0。\n",
    "\n",
    "p ≦ 0.1 就代表吃減肥藥沒效；\n",
    "\n",
    "p > 0 吃減肥藥有效；\n",
    "\n",
    "\n",
    "分別對應到假設檢定的 H0 與 H1\n",
    "\n",
    "H0 稱為虛無假設\n",
    "H1 稱為對立假設\n",
    "\n",
    "\n",
    "喝茶實驗的情境下，p ≦ 0.8 為 H0 ，p > 0.8 為 H1"
   ]
  }
 ],
 "metadata": {
  "colab": {
   "name": "Day33.YOLO 細節理解 - 網路輸出的後處理_HW.ipynb",
   "provenance": []
  },
  "kernelspec": {
   "display_name": "Python 3",
   "language": "python",
   "name": "python3"
  },
  "language_info": {
   "codemirror_mode": {
    "name": "ipython",
    "version": 3
   },
   "file_extension": ".py",
   "mimetype": "text/x-python",
   "name": "python",
   "nbconvert_exporter": "python",
   "pygments_lexer": "ipython3",
   "version": "3.9.1"
  }
 },
 "nbformat": 4,
 "nbformat_minor": 1
}
