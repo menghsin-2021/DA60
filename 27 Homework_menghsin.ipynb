{
 "cells": [
  {
   "cell_type": "markdown",
   "metadata": {
    "id": "H-z4L8J371GO"
   },
   "source": [
    "## 作業:\n",
    "今天學到不同統計量之間特性，  \n",
    "試著分析男生女生身高資料，  \n",
    "試著回答下面的問題:  \n",
    "Q1:試著用今天所教的內容，如何描述這兩組資料的樣態?    \n",
    "Q2: 請問男生和女生在平均身高上誰比較高?   \n",
    "Q3:請問第二題的答案和日常生活中觀察的一致嗎? 如果不一致，你覺得原因可能為何?    \n",
    "上述問題透過  python 語法進行運算，\n",
    "並將上述答案填寫在 (google 表單)[https://docs.google.com/forms/d/e/1FAIpQLSdDzwpeJl8YLPwZaW8pBZvtuXY9kIbbZLqxcXyzFaoraV5JEA/viewform ]\n",
    "![](作業資料圖檔.PNG)"
   ]
  },
  {
   "cell_type": "code",
   "execution_count": 1,
   "metadata": {
    "id": "yz28_IgkYdBW"
   },
   "outputs": [],
   "source": [
    "# library\n",
    "import matplotlib.pyplot as plt\n",
    "import numpy as np\n",
    "import pandas as pd\n",
    "from scipy import stats\n",
    "import math\n",
    "import statistics\n",
    "import seaborn as sns"
   ]
  },
  {
   "cell_type": "code",
   "execution_count": 2,
   "metadata": {
    "id": "3NtzuWtt71GU",
    "outputId": "be21c4eb-a6c2-4674-aadd-d378bafc0428"
   },
   "outputs": [],
   "source": [
    "## 輸入資料\n",
    "boys = [164, 176, 169, 169, 165, 175, 159, 151, 144, 160, 183, 165, 156, 170, 164, 173, 165, 163, 177, 171]\n",
    "girls = [169, 183, 170, 168, 182, 170, 173, 185, 151, 156, 162, 169, 162, 181, 159, 154, 167, 175, 170, 160]"
   ]
  },
  {
   "cell_type": "code",
   "execution_count": 11,
   "metadata": {
    "id": "uDM9AzrY71GW",
    "outputId": "f4e7ede3-fda9-4858-f122-af7c3b3f3ad4"
   },
   "outputs": [
    {
     "name": "stdout",
     "output_type": "stream",
     "text": [
      "男孩身高平均= 165.95\n",
      "女孩兒身高平均= 168.3\n",
      "np_median_boys= 165.0\n",
      "np_median_girls= 169.0\n",
      "男孩身高眾數= ModeResult(mode=array([165]), count=array([3]))\n",
      "男孩身高眾數= 165\n",
      "女孩身高眾數= ModeResult(mode=array([170]), count=array([3]))\n",
      "女孩身高眾數= 170\n",
      "男身高全距 39\n",
      "女身高全距 34\n",
      "男孩身高變異數= 84.89210526315789\n",
      "男孩身高變異數= 84.89210526315789\n",
      "女孩身高變異數= 95.37894736842105\n",
      "女孩身高變異數= 95.37894736842104\n",
      "男孩身高標準差= 9.213691185575838\n",
      "女孩身高標準差= 9.766214587465353\n",
      "90百分位數= 176.1\n",
      "50百分位數= 165.0\n",
      "20百分位數= 159.8\n",
      "20百分位數= 159.8\n",
      "90百分位數= 182.1\n",
      "50百分位數= 169.0\n",
      "20百分位數= 159.8\n",
      "20百分位數= 159.8\n",
      "男偏度 -0.47132127317376954\n",
      "男峰度 0.19395882957876331\n",
      "女偏度 0.05985321129365068\n",
      "女峰度 -0.8203607083948947\n"
     ]
    },
    {
     "data": {
      "image/png": "[encoded data removed]",
      "text/plain": [
       "<Figure size 432x288 with 1 Axes>"
      ]
     },
     "metadata": {
      "needs_background": "light"
     },
     "output_type": "display_data"
    }
   ],
   "source": [
    "#Q1:試著用今天所教的內容，如何描述這兩組資料的樣態?\n",
    "# 計算統計量_平均數的方法\n",
    "mean_boys=np.mean(boys)\n",
    "print(\"男孩身高平均=\",mean_boys)\n",
    "mean_girls=np.mean(girls)\n",
    "print(\"女孩兒身高平均=\",mean_girls)\n",
    "\n",
    "# 計算統計量_中位數\n",
    "np_median_boys=np.median(boys,axis=None)\n",
    "print(\"np_median_boys=\",np_median_boys)\n",
    "np_median_girls=np.median(girls,axis=None)\n",
    "print(\"np_median_girls=\",np_median_girls)\n",
    "\n",
    "\n",
    "# 統計量_眾數\n",
    "# 統計量的眾數，如果有多個眾數，取最小的值當眾數。\n",
    "mode_boys=stats.mode(boys,axis=None)\n",
    "print(\"男孩身高眾數=\",mode_boys)\n",
    "print(\"男孩身高眾數=\",mode_boys[0][0])\n",
    "mode_girls=stats.mode(girls,axis=None)\n",
    "print(\"女孩身高眾數=\",mode_girls)\n",
    "print(\"女孩身高眾數=\",mode_girls[0][0])\n",
    "\n",
    "\n",
    "#全距\n",
    "#rangeV=max(boys)-min(boys)\n",
    "def rangeV(x): \n",
    "  return(max(x)-min(x))\n",
    "    \n",
    "print('男身高全距', rangeV(boys))\n",
    "print('女身高全距', rangeV(girls))\n",
    "\n",
    "\n",
    "\n",
    "# 計算變異數的方法\n",
    "print(\"男孩身高變異數=\",statistics.variance(boys))\n",
    "print(\"男孩身高變異數=\",np.var(boys,ddof=1))\n",
    "print(\"女孩身高變異數=\",statistics.variance(girls))\n",
    "print(\"女孩身高變異數=\",np.var(girls,ddof=1))\n",
    "\n",
    "\n",
    "# 統計量_標準差的方法\n",
    "#樣本標準差\n",
    "#ddof=1, 回傳 sample standard deviation 樣本標準差，分母(n-1)，無偏估計\n",
    "std_boys=np.std(boys,ddof=1)\n",
    "print(\"男孩身高標準差=\",std_boys)\n",
    "std_girls=np.std(girls,ddof=1)\n",
    "print(\"女孩身高標準差=\",std_girls)\n",
    "\n",
    "\n",
    "# python 百分位數\n",
    "#np\n",
    "print(\"90百分位數=\",np.percentile(boys, 90))\n",
    "print(\"50百分位數=\",np.percentile(boys, 50))\n",
    "print(\"20百分位數=\",np.percentile(boys, 20))\n",
    "#stat\n",
    "print(\"20百分位數=\",stats.scoreatpercentile(boys, 20))\n",
    "#np\n",
    "print(\"90百分位數=\",np.percentile(girls, 90))\n",
    "print(\"50百分位數=\",np.percentile(girls, 50))\n",
    "print(\"20百分位數=\",np.percentile(girls, 20))\n",
    "#stat\n",
    "print(\"20百分位數=\",stats.scoreatpercentile(girls, 20))\n",
    "\n",
    "#計算峰度和偏度\n",
    "# 如 Skewness< 0 為左偏態，如 Skewness > 0 則為右偏態\n",
    "# 峰度（Kurtosis）資料分佈的峰態，峰度反映了峰部的尖度，也代表變異數的來源來自於不常出現的尾巴兩端的數值。\n",
    "# K>0 高峰 K<0低峰\n",
    "print('男偏度', stats.skew(boys))\n",
    "print('男峰度',stats.kurtosis(boys))\n",
    "print('女偏度', stats.skew(girls))\n",
    "print('女峰度', stats.kurtosis(girls))\n",
    "\n",
    "# pandas和 stat 接近\n",
    "# python的峰帶\n",
    "\n",
    "#最後，畫圖看分布\n",
    "\n",
    "# arr: 需要計算直方圖的一維數組； \n",
    "# bins: 直方圖的柱數，可選項，默認為10； \n",
    "# density: : 是否將得到的直方圖向量歸一化。默認為0； \n",
    "# color：顏色序列，默認為None； \n",
    "# facecolor: 直方圖顏色； \n",
    "# edgecolor: 直方圖邊框顏色； \n",
    "# alpha: 透明度； \n",
    "# histtype: 直方圖類型，『bar』, 『barstacked』, 『step』, 『stepfilled』；\n",
    "# 原文網址：https://kknews.cc/code/3ngaz5a.html\n",
    "\n",
    "\n",
    "\n",
    "plt.hist(boys,alpha=.4,bins=40, color='blue')\n",
    "plt.hist(girls,alpha=.4,bins=40, color='red')\n",
    "plt.title('boy, skewness={0},kurtosis={1}, girl, skewness={2},kurtosis={3},'.format(round(stats.skew(boys),2),round(stats.kurtosis(boys),2),round(stats.skew(girls),2), round(stats.kurtosis(boys),2)))\n",
    "plt.axvline(x = mean_boys)\n",
    "plt.axvline(x = mean_girls)\n",
    "plt.show()"
   ]
  },
  {
   "cell_type": "code",
   "execution_count": null,
   "metadata": {
    "id": "xH_GNsC271GW",
    "outputId": "f4b4c46a-0d8b-421c-9c70-0ebf2aab0e31"
   },
   "outputs": [
    {
     "data": {
      "text/plain": [
       "'\\n你的答案\\n'"
      ]
     },
     "execution_count": 4,
     "metadata": {
      "tags": []
     },
     "output_type": "execute_result"
    }
   ],
   "source": [
    "#Q2: 請問男生和女生在平均身高上誰比較高? \n",
    "# 女森"
   ]
  },
  {
   "cell_type": "code",
   "execution_count": null,
   "metadata": {
    "id": "xAzZU0Dv71GX",
    "outputId": "e2017c09-70fc-41ab-99c0-9d41fe21629d"
   },
   "outputs": [
    {
     "data": {
      "text/plain": [
       "'\\n你的答案\\n'"
      ]
     },
     "execution_count": 5,
     "metadata": {
      "tags": []
     },
     "output_type": "execute_result"
    }
   ],
   "source": [
    "#Q3:請問第二題的答案和日常生活中觀察的一致嗎? 如果不一致，你覺得原因可能為何? \n",
    "不一致，因為樣本數太少"
   ]
  }
 ],
 "metadata": {
  "colab": {
   "collapsed_sections": [],
   "name": "作業.ipynb",
   "provenance": []
  },
  "kernelspec": {
   "display_name": "Python 3",
   "language": "python",
   "name": "python3"
  },
  "language_info": {
   "codemirror_mode": {
    "name": "ipython",
    "version": 3
   },
   "file_extension": ".py",
   "mimetype": "text/x-python",
   "name": "python",
   "nbconvert_exporter": "python",
   "pygments_lexer": "ipython3",
   "version": "3.8.5"
  }
 },
 "nbformat": 4,
 "nbformat_minor": 1
}
