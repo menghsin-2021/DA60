{
 "cells": [
  {
   "cell_type": "code",
   "execution_count": null,
   "id": "fef7cf31",
   "metadata": {},
   "outputs": [],
   "source": [
    "# 1. 在速度較慢的時候，可以先從哪邊開始檢查？\n",
    "使用agg和transform進行操作時，儘量使用Python的內建函式，能夠提高執行效率\n",
    "採用isin() 篩選出對應資料室最快的，速度快是因為它採用了向量化的資料處理方式\n"
   ]
  },
  {
   "cell_type": "code",
   "execution_count": null,
   "id": "e8e71108",
   "metadata": {},
   "outputs": [],
   "source": [
    "# 2. 資料欄位的型態降級有助於減少記憶體佔用空間過⼤時應採取什麼⽅式讓記憶體占⽤量下降？\n",
    "欄位的型態降級有助於減少記憶體佔用空間\n",
    "整數型態int改成uint減少記憶體正用空間\n",
    "浮點數型態float64改成float32減少記憶體正用空間\n",
    "\n"
   ]
  }
 ],
 "metadata": {
  "kernelspec": {
   "display_name": "Python 3",
   "language": "python",
   "name": "python3"
  },
  "language_info": {
   "codemirror_mode": {
    "name": "ipython",
    "version": 3
   },
   "file_extension": ".py",
   "mimetype": "text/x-python",
   "name": "python",
   "nbconvert_exporter": "python",
   "pygments_lexer": "ipython3",
   "version": "3.9.1"
  }
 },
 "nbformat": 4,
 "nbformat_minor": 5
}
