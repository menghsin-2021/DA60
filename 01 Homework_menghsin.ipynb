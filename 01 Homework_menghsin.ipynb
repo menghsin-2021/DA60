{
 "cells": [
  {
   "cell_type": "markdown",
   "metadata": {
    "id": "P6xk2_jLsvFF"
   },
   "source": [
    "# [作業目標]\n",
    "\n",
    "1. [簡答題] 請問下列兩種將 Array 轉換成 List 的方式有何不同？\n",
    "\n",
    "```\n",
    "print('list(a): ', list(a))\n",
    "print('tolist(): ', a.tolist())\n",
    "```\n",
    "\n",
    "2. 請試著在程式中印出以下三個 NdArray 的屬性？（屬性：ndim、shape、size、dtype、itemsize、length、type）\n",
    "\n",
    "```\n",
    "a = np.random.randint(10, size=6) \n",
    "b = np.random.randint(10, size=(3,4)) \n",
    "c = np.random.randint(10, size=(2,3,2)) \n",
    "```\n",
    "\n",
    "3. 如何利用 list(...) 實現 a.tolist() 的效果？試著用程式實作。\n"
   ]
  },
  {
   "cell_type": "markdown",
   "metadata": {
    "id": "uXGll28asvFS"
   },
   "source": [
    "# 作業 "
   ]
  },
  {
   "cell_type": "markdown",
   "metadata": {
    "id": "SYkvkp9YLwB7"
   },
   "source": [
    "### 1. [簡答題] 請問下列兩種將 Array 轉換成 List 的方式有何不同？\n",
    "\n",
    "```\n",
    "print('list(a): ', list(a))\n",
    "print('tolist(): ', a.tolist())\n",
    "```\n"
   ]
  },
  {
   "cell_type": "code",
   "execution_count": null,
   "metadata": {
    "id": "5QrYoyNWsvFS",
    "outputId": "13f374d0-6f1b-47aa-bbac-c7d1a8c6995c"
   },
   "outputs": [
    {
     "data": {
      "text/plain": [
       "'\\nYour Code\\n'"
      ]
     },
     "execution_count": 3,
     "metadata": {
      "tags": []
     },
     "output_type": "execute_result"
    }
   ],
   "source": [
    "'''\n",
    "list(a):  [array([0, 1, 2, 3, 4]), array([5, 6, 7, 8, 9]), array([10, 11, 12, 13, 14])]\n",
    "tolist():  [[0, 1, 2, 3, 4], [5, 6, 7, 8, 9], [10, 11, 12, 13, 14]]\n",
    "\n",
    "list()的結果是：list of np.array of np.int；\n",
    "而tolist()的結果是：list of list of int\n",
    "'''"
   ]
  },
  {
   "cell_type": "markdown",
   "metadata": {
    "id": "AC9wUCyALwB9"
   },
   "source": [
    "### 2. 請試著在程式中印出以下三個 NdArray 的屬性並且解釋結果？（屬性：ndim、shape、size、dtype、itemsize、length、type）\n",
    "\n",
    "```\n",
    "a = np.random.randint(10, size=6) \n",
    "b = np.random.randint(10, size=(3,4)) \n",
    "c = np.random.randint(10, size=(2,3,2)) \n",
    "```"
   ]
  },
  {
   "cell_type": "code",
   "execution_count": 4,
   "metadata": {
    "id": "4qARRsdtLwB-"
   },
   "outputs": [
    {
     "name": "stdout",
     "output_type": "stream",
     "text": [
      "[7 3 1 6 5 5]\n",
      "[[2 1 8 3]\n",
      " [9 8 2 6]\n",
      " [9 0 6 6]]\n",
      "[[[9 2]\n",
      "  [7 3]\n",
      "  [1 9]]\n",
      "\n",
      " [[4 9]\n",
      "  [8 7]\n",
      "  [1 5]]]\n",
      "1 (6,) 6 int32 4 <memory at 0x000001BF3975B340> 6 <class 'numpy.ndarray'>\n",
      "2 (3, 4) 12 int32 4 <memory at 0x000001BF39757AD0> 3 <class 'numpy.ndarray'>\n",
      "3 (2, 3, 2) 12 int32 4 <memory at 0x000001BF39754A90> 2 <class 'numpy.ndarray'>\n"
     ]
    }
   ],
   "source": [
    "import numpy as np\n",
    "\n",
    "a = np.random.randint(10, size=6) \n",
    "b = np.random.randint(10, size=(3,4)) \n",
    "c = np.random.randint(10, size=(2,3,2))\n",
    "\n",
    "print(a)\n",
    "# [4 5 7 0 7 6]\n",
    "# 一維陣列 shape(6,)\n",
    "print(b)\n",
    "# [[2 1 8 3]\n",
    "#  [7 1 0 4]\n",
    "#  [9 9 4 7]]\n",
    "# 二維陣列 shape(3, 4)\n",
    "print(c)\n",
    "# [[[2 6]\n",
    "#   [9 9]\n",
    "#   [3 7]]\n",
    "\n",
    "#  [[1 3]\n",
    "#   [4 2]\n",
    "#   [8 4]]]\n",
    "# 三維陣列 shape(3, 2, 2)\n",
    "print(a.ndim, a.shape, a.size, a.dtype, a.itemsize, a.data, len(a), type(a))\n",
    "# 1 (6,) 6 int32 4 <memory at 0x000001BF3975B340> 6 <class 'numpy.ndarray'>\n",
    "# 維度, 形狀(大小), 元素個數, 資料型態(整數), 每個元素占用的空間, 記憶體位置, 第一個維度的元素個數(6,), 為 Numpy/ndarray這個 class \n",
    "print(b.ndim, b.shape, b.size, b.dtype, b.itemsize, b.data, len(b), type(b))\n",
    "# 2 (3, 4) 12 int32 4 <memory at 0x000001BF39757AD0> 3 <class 'numpy.ndarray'>\n",
    "# 維度, 形狀(大小), 元素個數, 資料型態(整數), 每個元素占用的空間, 記憶體位置, 第一個維度的元素個數(6,), 為 Numpy/ndarray這個 class \n",
    "print(c.ndim, c.shape, c.size, c.dtype, c.itemsize, c.data, len(c), type(c))\n",
    "# (2, 3, 2) 12 int32 4 <memory at 0x000001BF39754A90> 2 <class 'numpy.ndarray'>\n",
    "# 維度, 形狀(大小), 元素個數, 資料型態(整數), 每個元素占用的空間, 記憶體位置, 第一個維度的元素個數(6,), 為 Numpy/ndarray這個 class \n"
   ]
  },
  {
   "cell_type": "markdown",
   "metadata": {
    "id": "Uf6zC0QZLwCE"
   },
   "source": [
    "### 3. 如何利用 list(...) 實現 a.tolist() 的效果？試著用程式實作。\n"
   ]
  },
  {
   "cell_type": "code",
   "execution_count": 6,
   "metadata": {
    "id": "sCUzHu_BLwCF",
    "outputId": "ba9c8945-8efb-42b1-f978-2bbdda97accd"
   },
   "outputs": [
    {
     "name": "stdout",
     "output_type": "stream",
     "text": [
      "[6, 9, 8, 2, 5, 3]\n",
      "[6, 9, 8, 2, 5, 3]\n"
     ]
    }
   ],
   "source": [
    "a = np.random.randint(10, size=6) \n",
    "\n",
    "print(a.tolist())\n",
    "print(list(a))\n"
   ]
  },
  {
   "cell_type": "code",
   "execution_count": 9,
   "metadata": {
    "id": "IUkVtw8RLwCG",
    "outputId": "e39875a5-5ec7-431b-c12a-485acc167e44"
   },
   "outputs": [
    {
     "name": "stdout",
     "output_type": "stream",
     "text": [
      "[[4, 0, 0, 3], [5, 7, 8, 2], [4, 1, 5, 6]]\n",
      "[[4, 0, 0, 3], [5, 7, 8, 2], [4, 1, 5, 6]]\n"
     ]
    }
   ],
   "source": [
    "b = np.random.randint(10, size=(3,4)) \n",
    "\n",
    "print(b.tolist())\n",
    "print([list(b[0]), list(b[1]), list(b[2])])\n"
   ]
  },
  {
   "cell_type": "code",
   "execution_count": 39,
   "metadata": {
    "id": "NPhF8_CqLwCG",
    "outputId": "51fab908-5bfd-415f-9584-92bb376648c8"
   },
   "outputs": [
    {
     "name": "stdout",
     "output_type": "stream",
     "text": [
      "[[[5, 6], [7, 7], [0, 3]], [[2, 7], [0, 6], [1, 9]]]\n",
      "[[[5, 6], [7, 7], [0, 3]], [[2, 7], [0, 6], [1, 9]]]\n"
     ]
    }
   ],
   "source": [
    "c = np.random.randint(10, size=(2,3,2)) \n",
    "\n",
    "print(c.tolist())\n",
    "d = []\n",
    "for k in range(2):\n",
    "    e = []\n",
    "    for i in range(3):\n",
    "        e.append(list(c[k][i]))\n",
    "    d.append(e)\n",
    "\n",
    "print(d)\n",
    "    \n",
    "\n",
    "    \n",
    "# print(list(c[0]))\n",
    "# print(list(c[1]))"
   ]
  }
 ],
 "metadata": {
  "colab": {
   "name": "01Homework_維元.ipynb",
   "provenance": []
  },
  "kernelspec": {
   "display_name": "Python 3",
   "language": "python",
   "name": "python3"
  },
  "language_info": {
   "codemirror_mode": {
    "name": "ipython",
    "version": 3
   },
   "file_extension": ".py",
   "mimetype": "text/x-python",
   "name": "python",
   "nbconvert_exporter": "python",
   "pygments_lexer": "ipython3",
   "version": "3.9.1"
  }
 },
 "nbformat": 4,
 "nbformat_minor": 1
}
