{
 "cells": [
  {
   "cell_type": "markdown",
   "metadata": {
    "colab_type": "text",
    "id": "P6xk2_jLsvFF"
   },
   "source": [
    "# [作業目標]\n",
    "\n",
    "1. [簡答題] 請比較 np.zeros 和 np.empty 產生出來的陣列有何差異？為什麼要設計兩種方法？\n",
    "\n",
    "```\n",
    "print(np.zeros((2, 3)))\n",
    "print(np.empty((2, 3)))\n",
    "```\n",
    "\n",
    "2. 在不用「整數亂數方法」的限制下，如何將包含小數的轉換整數？請將給定的 a 陣列當中的元素變成去掉小數變成整數。\n",
    "3. 承上題，怎樣可以限制整數的範圍介於 m - n 之間？請將給定的 a 陣列當中的元素的範圍調整成 m - n 之間。"
   ]
  },
  {
   "cell_type": "markdown",
   "metadata": {
    "colab_type": "text",
    "id": "uXGll28asvFS"
   },
   "source": [
    "# 作業 "
   ]
  },
  {
   "cell_type": "markdown",
   "metadata": {},
   "source": [
    "### 1. [簡答題] 請比較 np.zeros 和 np.empty 產生出來的陣列有何差異？為什麼要設計兩種方法？\n",
    "\n",
    "```\n",
    "print(np.zeros((2, 3)))\n",
    "print(np.empty((2, 3)))\n",
    "```\n"
   ]
  },
  {
   "cell_type": "code",
   "execution_count": 2,
   "metadata": {
    "colab": {},
    "colab_type": "code",
    "id": "5QrYoyNWsvFS"
   },
   "outputs": [
    {
     "name": "stdout",
     "output_type": "stream",
     "text": [
      "[[0. 0. 0.]\n",
      " [0. 0. 0.]]\n",
      "[[0. 0. 0.]\n",
      " [0. 0. 0.]]\n"
     ]
    }
   ],
   "source": [
    "import numpy as np\n",
    "print(np.zeros((2, 3)))\n",
    "print(np.empty((2, 3)))"
   ]
  },
  {
   "cell_type": "markdown",
   "metadata": {},
   "source": [
    "zeros: 依照指定的 shape 和 dtype 產生充滿1的陣列\n",
    "empty：取得新記憶體建立新陣列，但不像 ones 或 zeros 一樣去填充值"
   ]
  },
  {
   "cell_type": "markdown",
   "metadata": {},
   "source": [
    "### 2. 在不用「整數亂數方法」的限制下，如何將包含小數的轉換整數？請將給定的 a 陣列當中的元素變成去掉小數變成整數。\n"
   ]
  },
  {
   "cell_type": "code",
   "execution_count": 30,
   "metadata": {},
   "outputs": [
    {
     "name": "stdout",
     "output_type": "stream",
     "text": [
      "[[0.85311898 0.4369797  0.6360575 ]\n",
      " [0.45872273 0.74402038 0.84314535]]\n",
      "[[11.21412881 15.4500156  10.86361289]\n",
      " [14.7717374  16.98891028 12.50373724]]\n",
      "[[0 0 0]\n",
      " [0 0 0]]\n",
      "[[11 15 10]\n",
      " [14 16 12]]\n",
      "[[1. 0. 1.]\n",
      " [0. 1. 1.]]\n",
      "[[11. 15. 11.]\n",
      " [15. 17. 13.]]\n"
     ]
    }
   ],
   "source": [
    "# 記得先 Import 正確的套件\n",
    "a = np.random.rand(2, 3)\n",
    "# numpy.random.rand(d0, d1, …, dn) 的隨機樣本位於(0, 1)中。\n",
    "print(a)\n",
    "\n",
    "# sample = np.random.uniform(low=0.5, high=13.3, size=(2,3))\n",
    "a1 = np.random.uniform(10, 20, (2, 3))\n",
    "print(a1)\n",
    "\n",
    "\n",
    "b = a.astype(np.int64)\n",
    "b1 = a1.astype(np.int64)\n",
    "print(b)\n",
    "print(b1)\n",
    "\n",
    "c = np.rint(a)\n",
    "c1 = np.rint(a1)\n",
    "print(c)\n",
    "print(c1)\n",
    "\n",
    "\n"
   ]
  },
  {
   "cell_type": "markdown",
   "metadata": {},
   "source": [
    "http://hk.uwenku.com/question/p-qvbblkwr-bdp.html\n"
   ]
  },
  {
   "cell_type": "markdown",
   "metadata": {},
   "source": [
    "函數名\t功能\n",
    "numpy.ceil ( x, )\t向正無窮取整，⌈ x ⌉ \\lceil \\bm x \\rceil⌈ x ⌉\n",
    "numpy.floor ( x, )\t向負無窮取整，⌊ x ⌋ \\lfloor \\bm x \\rfloor⌊ x ⌋\n",
    "numpy.trunc/fix ( x, )\t截取整數部分\n",
    "numpy.rint ( x, )\t四捨五入到最近整數\n",
    "numpy.around ( x, )\t四捨五入到給定的小數位\n",
    ">>> a = np.array([-1.7, -1.1, -0.6, -0.2, 0.4, 0.6, 1.3, 2.0])\n",
    ">>> a\n",
    "array([-1.7, -1.1, -0.6, -0.2,  0.4,  0.6,  1.3,  2. ])\n",
    ">>> np.ceil(a)\n",
    "array([-1., -1., -0., -0.,  1.,  1.,  2.,  2.])\n",
    ">>> np.floor(a)\n",
    "array([-2., -2., -1., -1.,  0.,  0.,  1.,  2.])\n",
    ">>> np.trunc(a)\n",
    "array([-1., -1., -0., -0.,  0.,  0.,  1.,  2.])\n",
    ">>> np.rint(a)\n",
    "array([-2., -1., -1., -0.,  0.,  1.,  1.,  2.])\n",
    ">>> np.around(a)\n",
    "array([-2., -1., -1., -0.,  0.,  1.,  1.,  2.])\n",
    "————————————————\n",
    "版权声明：本文为CSDN博主「十里清风」的原创文章，遵循CC 4.0 BY-SA版权协议，转载请附上原文出处链接及本声明。\n",
    "原文链接：https://blog.csdn.net/sinat_34072381/article/details/84567523"
   ]
  },
  {
   "cell_type": "markdown",
   "metadata": {},
   "source": [
    "### 3. 承上題，怎樣可以限制整數的範圍介於 m - n 之間？請將給定的 a 陣列當中的元素的範圍調整成 m - n 之間。\n"
   ]
  },
  {
   "cell_type": "code",
   "execution_count": 35,
   "metadata": {},
   "outputs": [
    {
     "name": "stdout",
     "output_type": "stream",
     "text": [
      "[[0.01680871 0.666872   0.43752588]\n",
      " [0.97271431 0.15821242 0.34846636]]\n",
      "[[38 30 28]\n",
      " [35 26 29]]\n"
     ]
    }
   ],
   "source": [
    "m = 20\n",
    "n = 40\n",
    "a = np.random.rand(2, 3)\n",
    "b = np.random.randint(m, n, (2,3))\n",
    "print(a)\n",
    "print(b)"
   ]
  },
  {
   "cell_type": "markdown",
   "metadata": {},
   "source": [
    "random.randint(low, hight) -> 返回一個位於[low,hight]之間的整數"
   ]
  },
  {
   "cell_type": "code",
   "execution_count": null,
   "metadata": {},
   "outputs": [],
   "source": []
  }
 ],
 "metadata": {
  "colab": {
   "name": "Day_023_HW.ipynb",
   "provenance": []
  },
  "kernelspec": {
   "display_name": "Python 3",
   "language": "python",
   "name": "python3"
  },
  "language_info": {
   "codemirror_mode": {
    "name": "ipython",
    "version": 3
   },
   "file_extension": ".py",
   "mimetype": "text/x-python",
   "name": "python",
   "nbconvert_exporter": "python",
   "pygments_lexer": "ipython3",
   "version": "3.9.1"
  }
 },
 "nbformat": 4,
 "nbformat_minor": 1
}
