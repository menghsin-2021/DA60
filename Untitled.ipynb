{
 "cells": [
  {
   "cell_type": "code",
   "execution_count": 1,
   "id": "4a738a60",
   "metadata": {},
   "outputs": [],
   "source": [
    "import numpy as np \n",
    "\n",
    "b = np.arange(12).reshape(3, 4)\n",
    "# array([[ 0,  1,  2,  3],\n",
    "#        [ 4,  5,  6,  7],\n",
    "#        [ 8,  9, 10, 11]])"
   ]
  },
  {
   "cell_type": "code",
   "execution_count": 2,
   "id": "df997ce5",
   "metadata": {},
   "outputs": [
    {
     "name": "stdout",
     "output_type": "stream",
     "text": [
      "66\n",
      "[12 15 18 21]\n",
      "[ 6 22 38]\n"
     ]
    }
   ],
   "source": [
    "print(b.sum())\n",
    "# 66\n",
    "\n",
    "print(b.sum(axis=0))\n",
    "# array([12, 15, 18, 21])\n",
    "\n",
    "print(b.sum(axis=1))\n",
    "# array([0, 4, 8])"
   ]
  },
  {
   "cell_type": "code",
   "execution_count": 3,
   "id": "dc4eb220",
   "metadata": {},
   "outputs": [
    {
     "data": {
      "text/plain": [
       "2"
      ]
     },
     "execution_count": 3,
     "metadata": {},
     "output_type": "execute_result"
    }
   ],
   "source": [
    "import numpy as np \n",
    "\n",
    "np.searchsorted([1,2,3,4,5], 3)\n",
    "# 2"
   ]
  },
  {
   "cell_type": "code",
   "execution_count": 3,
   "id": "f3009243",
   "metadata": {},
   "outputs": [
    {
     "name": "stdout",
     "output_type": "stream",
     "text": [
      "[0 1 2]\n",
      "0\n",
      "1\n",
      "8\n"
     ]
    }
   ],
   "source": [
    "import numpy as np \n",
    "\n",
    "a = np.arange(3) ** 3\n",
    "\n",
    "print(np.arange(3))\n",
    "\n",
    "for i in a:\n",
    "    print(i)\n",
    "# 0\n",
    "# 1 \n",
    "# 8"
   ]
  },
  {
   "cell_type": "code",
   "execution_count": 2,
   "id": "10ad0a98",
   "metadata": {},
   "outputs": [
    {
     "name": "stdout",
     "output_type": "stream",
     "text": [
      "0    1\n",
      "1    2\n",
      "2    3\n",
      "dtype: int64\n",
      "<class 'pandas.core.series.Series'>\n"
     ]
    }
   ],
   "source": [
    "import pandas as pd\n",
    "\n",
    "s = pd.Series([1, 2, 3])\n",
    "print(s)\n",
    "# 0    1\n",
    "# 1    2\n",
    "# 2    3\n",
    "# dtype: int64\n",
    "print(type(s))\n",
    "# <class 'pandas.core.series.Series'>"
   ]
  },
  {
   "cell_type": "code",
   "execution_count": 4,
   "id": "199b1212",
   "metadata": {},
   "outputs": [
    {
     "name": "stdout",
     "output_type": "stream",
     "text": [
      "0    1\n",
      "1    2\n",
      "2    3\n",
      "dtype: int64\n",
      "(3,)\n",
      "3\n",
      "int64\n"
     ]
    }
   ],
   "source": [
    "import pandas as pd\n",
    "\n",
    "s = pd.Series([1, 2, 3])\n",
    "print(s)\n",
    "print(s.shape) # (3, )\n",
    "print(s.size) # 3\n",
    "print(s.dtype) # int64"
   ]
  },
  {
   "cell_type": "code",
   "execution_count": null,
   "id": "4773d494",
   "metadata": {},
   "outputs": [],
   "source": []
  }
 ],
 "metadata": {
  "kernelspec": {
   "display_name": "Python 3",
   "language": "python",
   "name": "python3"
  },
  "language_info": {
   "codemirror_mode": {
    "name": "ipython",
    "version": 3
   },
   "file_extension": ".py",
   "mimetype": "text/x-python",
   "name": "python",
   "nbconvert_exporter": "python",
   "pygments_lexer": "ipython3",
   "version": "3.9.1"
  }
 },
 "nbformat": 4,
 "nbformat_minor": 5
}
