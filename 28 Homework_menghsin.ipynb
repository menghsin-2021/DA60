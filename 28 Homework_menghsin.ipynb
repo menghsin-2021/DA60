{
 "cells": [
  {
   "cell_type": "markdown",
   "metadata": {},
   "source": [
    "## 作業:\n",
    "今天學到2種分配，包含，   \n",
    "離散均勻分配( Discrete Uniform Distribution )   \n",
    "伯努利分配( Bernoulli Distribution )   \n",
    "\n",
    "今天我們透過作業中的問題，回想今天的內容吧!  "
   ]
  },
  {
   "cell_type": "markdown",
   "metadata": {},
   "source": [
    "### 丟一個銅板，丟了100次，出現正面 50 次的機率有多大。\n",
    "(提示: 先想是哪一種分配，然後透過 python 語法進行計算)\n"
   ]
  },
  {
   "cell_type": "code",
   "execution_count": null,
   "metadata": {},
   "outputs": [],
   "source": [
    "http://pytolearn.csd.auth.gr/d1-hyptest/11/distros.html"
   ]
  },
  {
   "cell_type": "code",
   "execution_count": 2,
   "metadata": {},
   "outputs": [],
   "source": [
    "# library\n",
    "import matplotlib.pyplot as plt\n",
    "import numpy as np\n",
    "import pandas as pd\n",
    "from scipy import stats\n",
    "import math\n",
    "import statistics"
   ]
  },
  {
   "cell_type": "code",
   "execution_count": 34,
   "metadata": {},
   "outputs": [
    {
     "name": "stdout",
     "output_type": "stream",
     "text": [
      "1.6212613988670813e-11\n"
     ]
    },
    {
     "data": {
      "image/png": "[encoded data removed]",
      "text/plain": [
       "<Figure size 432x288 with 1 Axes>"
      ]
     },
     "metadata": {
      "needs_background": "light"
     },
     "output_type": "display_data"
    }
   ],
   "source": [
    "'''\n",
    "# 二項分佈 (binomial distribution)\n",
    "# 前提：獨立重複試驗、有放回、只有兩個結果\n",
    "# 二項分佈指出，隨機一次試驗出現事件A的機率如果為p，那麼在重複 n 次試驗中出現 x 次事件A的機率為：\n",
    "# f(n,x,p) = choose(n, x) * p**x * (1-p)**(n-x)\n",
    "\n",
    "pdf: Probability Density Function\n",
    "cdf: Cumulative Distribution Function\n",
    "ppf: Percent Point Function (Inverse of cdf)\n",
    "sf: Survival Function (1-cdf)\n",
    "isf: Inverse Survival Function (Inverse of sf)\n",
    "'''\n",
    "# 1.定義二項分佈的基本資訊\n",
    "p = 0.8 # 事件A 機率 0.8 (假設出現正面朝上的機率是0.8)\n",
    "n = 100  # 重複實驗5次,\n",
    "r = np.arange(0,101) # 可以出現的範圍為 0,1,2,...,5-->6種可能出現的結果 (0~5次正面朝上的機率)\n",
    "# print(r)\n",
    "#print(type(k))\n",
    "\n",
    "# 2.計算二項分佈的概率質量分佈 (probability mass function)\n",
    "# 之所以稱為質量，是因為離散的點\n",
    "# P(X=x) --> 是機率\n",
    "probs = stats.binom.pmf(r, n, p)\n",
    "print(probs[50])\n",
    "#array([ 0.07776, 0.2592 , 0.3456 , 0.2304 , 0.0768 , 0.01024])\n",
    "plt.bar(r, probs)\n",
    "plt.ylabel('P(X=x)')\n",
    "plt.xlabel('x')\n",
    "plt.title('binomial(n=100,p=0.8)')\n",
    "plt.show()\n",
    "\n",
    "#學生額外小練習: 可以調整 p 的不同值，p接近於1 時，p=0.5, p 接近於 0時，看 pmf 的變化。\n"
   ]
  },
  {
   "cell_type": "code",
   "execution_count": 11,
   "metadata": {},
   "outputs": [
    {
     "name": "stdout",
     "output_type": "stream",
     "text": [
      "[1.26765060e-70 5.08327891e-68 1.00906255e-65 1.32195688e-63\n",
      " 1.28572983e-61 9.90145182e-60 6.28850445e-58 3.38752535e-56\n",
      " 1.57983300e-54 6.47923274e-53 2.36572712e-51 7.76690477e-50\n",
      " 2.31166756e-48 6.28014734e-47 1.56640522e-45 3.60490511e-44\n",
      " 7.68805276e-43 1.52515165e-41 2.82377080e-40 4.89380786e-39\n",
      " 7.95989864e-38 1.21796361e-36 1.75690192e-35 2.39374642e-34\n",
      " 3.08588014e-33 3.76993870e-32 4.37086004e-31 4.81554670e-30\n",
      " 5.04766368e-29 5.03938497e-28 4.79671077e-27 4.35701378e-26\n",
      " 3.77990946e-25 3.13442912e-24 2.48616477e-23 1.88746953e-22\n",
      " 1.37236305e-21 9.56170685e-21 6.38699868e-20 4.09214946e-19\n",
      " 2.51581920e-18 1.48471612e-17 8.41375589e-17 4.57983426e-16\n",
      " 2.39518474e-15 1.20381424e-14 5.81566354e-14 2.70105454e-13\n",
      " 1.20621274e-12 5.17989264e-12 2.13925066e-11 8.49713850e-11\n",
      " 3.24614850e-10 1.19275721e-09 4.21517877e-09 1.43265527e-08\n",
      " 4.68273975e-08 1.47180883e-07 4.44780875e-07 1.29218424e-06\n",
      " 3.60842011e-06 9.68379289e-06 2.49702147e-05 6.18517404e-05\n",
      " 1.47140269e-04 3.36087162e-04 7.36883602e-04 1.55044055e-03\n",
      " 3.12969817e-03 6.05933548e-03 1.12489787e-02 2.00202067e-02\n",
      " 3.41516296e-02 5.58327168e-02 8.74753846e-02 1.31353217e-01\n",
      " 1.89087208e-01 2.61067248e-01 3.45966782e-01 4.40538415e-01\n",
      " 5.39838630e-01 6.37912916e-01 7.28811035e-01 8.07662415e-01\n",
      " 8.71494485e-01 9.19556279e-01 9.53087763e-01 9.74671247e-01\n",
      " 9.87425124e-01 9.94303619e-01 9.97666439e-01 9.99144602e-01\n",
      " 9.99723013e-01 9.99922036e-01 9.99981320e-01 9.99996297e-01\n",
      " 9.99999417e-01 9.99999932e-01 9.99999995e-01 1.00000000e+00\n",
      " 1.00000000e+00]\n"
     ]
    },
    {
     "data": {
      "image/png": "[encoded data removed]",
      "text/plain": [
       "<Figure size 432x288 with 1 Axes>"
      ]
     },
     "metadata": {
      "needs_background": "light"
     },
     "output_type": "display_data"
    }
   ],
   "source": [
    "# 3.計算二項分佈的累積機率 (cumulative density function)，pmf 的累加\n",
    "# 之所以稱為質量，是因為離散的點，預設體積（即寬度）為1\n",
    "# P(X=x) --> 是機率\n",
    "cumsum_probs = stats.binom.cdf(r, n, p)\n",
    "print(cumsum_probs)\n",
    "#array([ 0.07776, 0.2592 , 0.3456 , 0.2304 , 0.0768 , 0.01024])\n",
    "plt.show()\n",
    "plt.ylabel('P(X<=x)')\n",
    "plt.xlabel('x')\n",
    "plt.title('binomial(n=100,p=0.5)')\n",
    "plt.plot(r, cumsum_probs)\n",
    "plt.show()"
   ]
  },
  {
   "cell_type": "code",
   "execution_count": 35,
   "metadata": {},
   "outputs": [
    {
     "name": "stdout",
     "output_type": "stream",
     "text": [
      "50.0\n"
     ]
    }
   ],
   "source": [
    "# 4.透過 cdf ，給定一個 機率值，反推出對應到的 x\n",
    "# 給 cdf 然後給 x值\n",
    "\n",
    "# p_loc= stats.binom.ppf(cumsum_probs, n, p)\n",
    "\n",
    "\n",
    "'''ppf: percent point function (or inverse cumulative distribution function)\n",
    "ppf returns the value x of the variable that has a given cumulative distribution\n",
    "probability (cdf). Thus, given the cdf(x) of a x value, ppf returns \n",
    "the value x itself, therefore, operating as the inverse of cdf'''\n",
    "\n",
    "p_loc= stats.binom.ppf(1.6212613988670813e-11, 100, 0.8) # 給了剛剛算出 正面朝上50次的機率\n",
    "print(p_loc)  # 給出 x 值 (50次)\n",
    "#看上圖看結果"
   ]
  },
  {
   "cell_type": "code",
   "execution_count": 32,
   "metadata": {},
   "outputs": [
    {
     "name": "stdout",
     "output_type": "stream",
     "text": [
      "[78 71 79 78 73 80 72 79 80 72 83 79 87 84 79 86 79 81 81 78 80 83 80 86\n",
      " 80 80 79 89 80 82 81 82 76 83 76 80 83 84 81 81 78 86 87 85 84 89 81 83\n",
      " 76 92 82 79 79 79 79 82 81 88 81 77 71 84 85 78 84 76 81 86 79 78 85 77\n",
      " 73 81 76 80 76 80 76 76 78 79 78 84 78 82 87 78 76 78 74 82 83 81 79 74\n",
      " 77 84 85 75 78 82 76 88 76 78 78 81 87 84 82 83 80 75 81 83 84 85 76 80\n",
      " 83 78 73 84 78 90 80 85 78 82 72 78 77 79 75 82 78 82 82 89 74 79 74 76\n",
      " 83 83 77 78 83 83 79 86 81 74 77 76 82 84 83 84 86 79 86 84 84 83 74 80\n",
      " 82 79 79 77 72 79 79 86 83 69 78 81 74 84 72 74 82 84 75 78 78 84 73 77\n",
      " 73 82 83 81 80 82 70 80 80 75 78 77 77 81 87 73 80 76 78 76 84 87 80 85\n",
      " 80 75 81 76 85 79 77 82 80 82 78 82 69 81 80 79 84 72 81 72 82 84 78 75\n",
      " 82 84 74 75 80 81 79 84 76 80 79 77 78 77 75 79 79 71 78 85 79 82 80 76\n",
      " 79 72 81 82 86 83 81 82 82 75 78 80 86 81 83 80 84 76 77 77 83 80 83 77\n",
      " 78 80 85 80 86 83 78 80 82 75 80 87 72 84 74 71 81 84 76 84 83 85 79 81\n",
      " 84 83 81 80 86 83 79 90 77 77 79 78 77 77 81 80 81 84 79 84 82 80 76 77\n",
      " 81 79 86 77 75 86 81 79 89 76 80 86 69 73 81 77 83 80 82 79 78 85 76 81\n",
      " 73 75 76 76 81 82 85 76 76 81 81 75 83 75 83 83 72 82 78 82 74 81 76 79\n",
      " 78 83 80 75 80 77 84 78 88 84 85 78 82 81 80 81 82 83 78 81 79 80 83 79\n",
      " 85 77 80 77 76 81 86 80 76 85 76 78 81 83 80 83 78 82 78 73 75 85 78 83\n",
      " 79 77 81 81 77 82 79 84 79 80 82 77 77 82 80 78 75 88 78 79 84 76 82 73\n",
      " 82 79 79 81 77 79 75 77 74 81 83 77 75 83 84 82 69 84 82 85 83 73 82 80\n",
      " 79 73 84 84 79 75 77 82 83 84 77 84 80 82 83 86 80 75 82 78 85 82 74 79\n",
      " 88 68 76 81 84 83 82 84 80 79 81 78 79 78 87 81 79 81 78 80 85 83 86 75\n",
      " 85 81 89 80 78 74 77 81 81 71 81 76 73 85 83 78 82 84 70 85 82 79 84 86\n",
      " 80 78 75 85 86 77 79 77 84 80 85 83 83 80 83 74 74 87 81 88 78 82 86 80\n",
      " 86 78 85 83 78 90 81 84 73 81 84 80 80 82 82 78 83 74 81 77 84 83 82 83\n",
      " 82 79 76 81 87 78 78 89 84 80 78 76 81 82 83 78 68 88 79 76 83 85 84 80\n",
      " 84 79 80 81 79 76 78 77 81 79 78 85 84 81 75 84 80 74 80 81 77 78 85 74\n",
      " 75 76 78 84 83 79 81 78 80 77 83 72 83 78 73 79 88 82 83 79 69 76 81 73\n",
      " 77 82 83 81 79 75 79 79 81 83 78 81 76 82 80 81 73 86 81 72 85 81 81 85\n",
      " 81 77 84 84 79 73 81 82 86 84 86 77 79 79 82 77 80 71 75 79 80 78 86 75\n",
      " 65 82 83 80 72 76 88 80 73 80 74 77 78 83 85 84 73 79 80 82 82 85 78 83\n",
      " 87 79 73 81 81 80 78 77 85 79 77 82 76 75 78 71 78 86 77 84 82 81 79 76\n",
      " 84 76 86 80 79 81 80 85 82 80 74 86 78 74 86 80 82 78 80 83 80 76 80 88\n",
      " 80 84 77 73 76 77 83 81 83 74 79 80 73 82 77 86 80 83 85 80 87 85 80 83\n",
      " 72 76 88 78 72 81 78 79 86 78 76 74 75 84 76 77 77 84 86 77 80 87 79 84\n",
      " 77 76 82 77 80 75 74 81 85 77 78 80 82 75 85 80 84 81 84 86 77 75 80 83\n",
      " 79 82 81 84 85 85 78 75 83 78 79 78 78 82 79 72 80 82 76 82 82 76 84 79\n",
      " 84 86 88 85 77 80 84 79 79 83 80 82 80 85 86 85 81 77 75 83 73 76 80 78\n",
      " 76 80 81 81 80 80 87 80 81 78 77 80 80 81 77 82 83 80 82 81 79 78 74 86\n",
      " 79 82 78 81 84 80 78 75 77 77 91 75 85 80 87 82 81 84 82 82 78 84 78 81\n",
      " 80 74 83 79 82 81 82 76 77 77 76 85 80 78 82 88 84 85 80 81 81 78 76 75\n",
      " 73 78 75 85 89 83 79 84 76 86 76 78 81 79 82 81]\n"
     ]
    },
    {
     "data": {
      "image/png": "[encoded data removed]",
      "text/plain": [
       "<Figure size 432x288 with 1 Axes>"
      ]
     },
     "metadata": {
      "needs_background": "light"
     },
     "output_type": "display_data"
    }
   ],
   "source": [
    "# 5.產生符合二項分佈的隨機樣本點 (random sample)\n",
    "X = stats.binom.rvs(n,p,size=1000)\n",
    "print(X)\n",
    "plt.hist(X, bins=100)\n",
    "plt.show()"
   ]
  },
  {
   "cell_type": "code",
   "execution_count": 33,
   "metadata": {},
   "outputs": [
    {
     "name": "stdout",
     "output_type": "stream",
     "text": [
      "(array(80.), array(16.), array(-0.15), array(0.0025))\n",
      "<class 'tuple'>\n",
      "binomial mean= 80.0\n",
      "binomial variance= 15.999999999999996\n",
      "binomial kurtosis= -0.15000000000000005\n",
      "binomial skew= 0.0025000000000000027\n"
     ]
    }
   ],
   "source": [
    "#6.計算固定參數下，隨機變數的平均數、變異數、偏度和峰度。\n",
    "stat_bin=stats.binom.stats(n,p,moments='mvks')\n",
    "print(stat_bin)\n",
    "print(type(stat_bin))\n",
    "#E(X)\n",
    "print(\"binomial mean=\",float(stat_bin[0]))\n",
    "print(\"binomial variance=\",float(stat_bin[1]))\n",
    "print(\"binomial kurtosis=\",float(stat_bin[2]))\n",
    "print(\"binomial skew=\",float(stat_bin[3]))"
   ]
  },
  {
   "cell_type": "code",
   "execution_count": null,
   "metadata": {},
   "outputs": [],
   "source": []
  }
 ],
 "metadata": {
  "colab": {
   "name": "Day33.YOLO 細節理解 - 網路輸出的後處理_HW.ipynb",
   "provenance": []
  },
  "kernelspec": {
   "display_name": "Python 3",
   "language": "python",
   "name": "python3"
  },
  "language_info": {
   "codemirror_mode": {
    "name": "ipython",
    "version": 3
   },
   "file_extension": ".py",
   "mimetype": "text/x-python",
   "name": "python",
   "nbconvert_exporter": "python",
   "pygments_lexer": "ipython3",
   "version": "3.9.1"
  }
 },
 "nbformat": 4,
 "nbformat_minor": 1
}
